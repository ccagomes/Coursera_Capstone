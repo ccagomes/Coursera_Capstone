{
    "nbformat_minor": 1, 
    "cells": [
        {
            "source": "# Capstone Project - The Battle of Neighborhoods", 
            "cell_type": "markdown", 
            "metadata": {
                "collapsed": true
            }
        }, 
        {
            "source": "### IBM Data Science Professional Specialization - Coursera", 
            "cell_type": "markdown", 
            "metadata": {}
        }, 
        {
            "source": "#### Description: Introduction/Business Problem", 
            "cell_type": "markdown", 
            "metadata": {}
        }, 
        {
            "source": "The purpose of this project is to show the difference that the price of a property can have from one neighborhood to another neighborhood. A few minutes driving from one neighborhood to another is enough to show considerable differences in real estate investing. So what aspects affect the price of a property? How can we determine this?\n\nWe will explore in this project the neighborhoods of New York to understand which factors are most determining in the price of a property, as well as whether it is possible to use nearby property prices to estimate the value of another property.", 
            "cell_type": "markdown", 
            "metadata": {}
        }, 
        {
            "source": "#### Description: Data", 
            "cell_type": "markdown", 
            "metadata": {}
        }, 
        {
            "source": "For this we will use data from <br>\n\n- Foursquare API\n- NYC Condos Average Price per Neighborhood from End of Last Year (https://www.cityrealty.com/nyc/market-insight/features/trending-in-ny/october-2018-average-nyc-condo-prices-neighborhood/23921)\n\nWe will be using 3 bedroom apartments for the calculations.", 
            "cell_type": "markdown", 
            "metadata": {}
        }, 
        {
            "source": "#### Components:", 
            "cell_type": "markdown", 
            "metadata": {}
        }, 
        {
            "source": "- For each neighborhood, call Geocoder Python to get its coordinate.\n- For each neighborhood's coordinate, call FourSquare API to get the surrounding venues.\n- Count the occurrences of each venue type and attach that information to each neighborhood.\n\nAfter that, the output of the data collecting process will be a 2 dimensions dataframe, where:\n- Each column will be the count of one type of venue in that neighborhood.\n- Each row represents a neighborhood.\n- The last column will be the average 3-bedroom condo price of that neighborhood.", 
            "cell_type": "markdown", 
            "metadata": {}
        }, 
        {
            "source": "#### How will we solve the problem?", 
            "cell_type": "markdown", 
            "metadata": {}
        }, 
        {
            "source": "- Correlation between price and surrounding venues \n- Machine Learning Techniques", 
            "cell_type": "markdown", 
            "metadata": {}
        }, 
        {
            "execution_count": null, 
            "cell_type": "code", 
            "metadata": {}, 
            "outputs": [], 
            "source": ""
        }
    ], 
    "metadata": {
        "kernelspec": {
            "display_name": "Python 3.6", 
            "name": "python3", 
            "language": "python"
        }, 
        "language_info": {
            "mimetype": "text/x-python", 
            "nbconvert_exporter": "python", 
            "version": "3.6.8", 
            "name": "python", 
            "file_extension": ".py", 
            "pygments_lexer": "ipython3", 
            "codemirror_mode": {
                "version": 3, 
                "name": "ipython"
            }
        }
    }, 
    "nbformat": 4
}